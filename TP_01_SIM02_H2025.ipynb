{
 "cells": [
  {
   "metadata": {},
   "cell_type": "markdown",
   "source": [
    "## Auteur : Rodriguez, Aaron\n",
    "## DA 6320331"
   ]
  },
  {
   "cell_type": "markdown",
   "metadata": {},
   "source": [
    "## Directive\n",
    " - Cet exercice doit être fait individuellement.\n",
    " - La date de remise sera donnée par votre enseignant\n",
    " - Le moyen de la remise sera donné par votre enseignant\n",
    " - Le nom de fichier de remise doit être renommé ainsi :\n",
    "TP_01_NOM_PRENOM\n",
    " - Le fichier de remise doit contenir votre DA dans la premier bloc de texte\n",
    "\n",
    "## Objectif\n",
    " - Se familiariser avec les tuples, \n",
    " - Se familiariser avec les ensembles,\n",
    " - Se familiariser avec les dictionnaires,\n",
    " - Comprendre les fonctions map, sorted, filter avec les collections de données\n",
    " -  Comprendre la fonction lambda avec les tuples, les ensembles et les dictionnaires\n",
    " - Comprendre le concept de compréhension pour les tuples, les ensembles et dictionnaire\n",
    " - Appliquer les connaissances à un contexte scientifique\n",
    "\n",
    "## Instruction\n",
    " - Completer les blocs de code de ce cahier Jupiter et remettre ce fichier modifié avec vos réponse.\n",
    " - Toutes les questions doivent être complétées en utilisant python pour résoudre les mises en situation."
   ]
  },
  {
   "cell_type": "markdown",
   "metadata": {},
   "source": [
    "# 1. Racines d'un polynome (1.5 pts)\n",
    " Créez une fonction racines_communes qui prend deux ensembles de nombres représentant les racines de deux polynômes et retourne : \n",
    " - l'ensemble des racines qui ne sont pas communes aux deux ensembles\n",
    " - l'ensemble des racines des deux ensembles\n",
    " - l'ensemble des racines paires qui sont communes aux deux ensembles"
   ]
  },
  {
   "cell_type": "code",
   "execution_count": null,
   "metadata": {},
   "outputs": [],
   "source": [
    "def racines_communes(e1, e2) -> {pas_c, t, pair_c}:\n",
    "    pas_c = e1 ^ e2\n",
    "    t = e1 + e2\n",
    "    pair_c = pas_c"
   ]
  },
  {
   "cell_type": "markdown",
   "metadata": {},
   "source": [
    "# 2. Analyse de données météo\n",
    "Supposons les données météo journalières suivantes sous forme de tuples (temp_min, temp_max, pluie)\n",
    "meteo_semaine = [\n",
    "    (12, 25, 0),\n",
    "    (15, 28, 10),\n",
    "    (14, 27, 5),\n",
    "    (13, 24, 15),\n",
    "    (11, 22, 8),\n",
    "    (10, 20, 20),\n",
    "    (12, 23, 0)\n",
    "]"
   ]
  },
  {
   "cell_type": "markdown",
   "metadata": {},
   "source": [
    "## $2.a$ (0.5 pts)\n",
    "Créez une fonction lambda qui calcule l'amplitude thermique journalière. Pour un tuple de données météo journalier (temp_min, temp_max, pluie), il va retourner l'amplitude thermique du jour.\n",
    "```\n",
    "amplitude_thermique(meteo_semaine[5]) # Va retourner 10\n",
    "```"
   ]
  },
  {
   "cell_type": "code",
   "execution_count": null,
   "metadata": {},
   "outputs": [],
   "source": [
    "# 2.a\n"
   ]
  },
  {
   "cell_type": "markdown",
   "metadata": {},
   "source": [
    "## $2.b$ (1 pts)\n",
    "Créez un dictionnaire associant chaque jour à son amplitude thermique"
   ]
  },
  {
   "cell_type": "code",
   "execution_count": null,
   "metadata": {},
   "outputs": [],
   "source": [
    "#2.b\n"
   ]
  },
  {
   "cell_type": "markdown",
   "metadata": {},
   "source": [
    "## $2.c$ (0.75 pts)\n",
    "Utilisez la notion de compréhension pour obtenir la liste des jours de pluie (pluie > 0)"
   ]
  },
  {
   "cell_type": "code",
   "execution_count": null,
   "metadata": {},
   "outputs": [],
   "source": [
    "#2.c\n"
   ]
  },
  {
   "cell_type": "markdown",
   "metadata": {},
   "source": [
    "## $2.d$ (0.75 pts)\n",
    "Utilisez filter pour obtenir les jours où la température max dépasse 25°C"
   ]
  },
  {
   "cell_type": "code",
   "execution_count": null,
   "metadata": {},
   "outputs": [],
   "source": [
    "#2.d"
   ]
  },
  {
   "cell_type": "markdown",
   "metadata": {},
   "source": [
    "# 3. Manipulation d'une matrice creuse\n",
    "Une matrice creuse est représentée par un dictionnaire sous la forme {(i,j): valeur}\n",
    "Supposons la matrice creuse suivante: matrice = {(0,0): -1, (0,2): 3, (1,1): -2, (2,0): 4, (2,2): 5}"
   ]
  },
  {
   "cell_type": "markdown",
   "metadata": {},
   "source": [
    "## $3.a$ (1 pts)\n",
    "Utilisez une compréhension de dictionnaire pour créer un nouveau dictionnaire contenant uniquement les éléments de la matrice d'origine ayant des valeurs strictement négatives."
   ]
  },
  {
   "cell_type": "code",
   "execution_count": null,
   "metadata": {},
   "outputs": [],
   "source": [
    "#3.a\n"
   ]
  },
  {
   "cell_type": "markdown",
   "metadata": {},
   "source": [
    "## $3.b$ (1 pts)\n",
    "Créez un ensemble (set) contenant les numéros de ligne (i) pour lesquelles il existe au moins une valeur non nulle dans la matrice."
   ]
  },
  {
   "cell_type": "code",
   "execution_count": null,
   "metadata": {},
   "outputs": [],
   "source": [
    "#3.b\n"
   ]
  },
  {
   "cell_type": "markdown",
   "metadata": {},
   "source": [
    "## $3.c$ (1 pts)\n",
    "Utilisez la fonction filter pour obtenir une liste des positions (i, j) dans la matrice où la valeur est un nombre impair."
   ]
  },
  {
   "cell_type": "code",
   "execution_count": null,
   "metadata": {},
   "outputs": [],
   "source": [
    "#3.c\n"
   ]
  },
  {
   "cell_type": "markdown",
   "metadata": {},
   "source": [
    "# 4. Statistiques des étudiants\n",
    "Les données des étudiants ont été collectées et regroupées sous la forme suivante: (nom, age, (note_math, note_info, note_physique)). Supposons la liste de tuples des étudiants d'une classe\n",
    "etudiants = [\n",
    "    ('Alice', 18, (17, 15, 16)),\n",
    "    ('Bob', 19, (12, 14, 11)),\n",
    "    ('Charlie', 18, (15, 18, 14)),\n",
    "    ('David', 20, (9, 11, 10))\n",
    "]"
   ]
  },
  {
   "cell_type": "markdown",
   "metadata": {},
   "source": [
    "## $4.a$ (0.5 pts)\n",
    "Créez une fonction lambda qui calcule la moyenne des notes d'un étudiant"
   ]
  },
  {
   "cell_type": "code",
   "execution_count": null,
   "metadata": {},
   "outputs": [],
   "source": [
    "#4.c\n"
   ]
  },
  {
   "cell_type": "markdown",
   "metadata": {},
   "source": [
    "## $4.b$ (1 pts)\n",
    "Utilisez la notion de compréhension pour créer un dictionnaire {nom: moyenne}"
   ]
  },
  {
   "cell_type": "code",
   "execution_count": null,
   "metadata": {},
   "outputs": [],
   "source": [
    "#4.b\n"
   ]
  },
  {
   "cell_type": "markdown",
   "metadata": {},
   "source": [
    "## $4.c$ (1 pts)\n",
    "Utilisez filter pour obtenir les étudiants ayant la moyenne en math"
   ]
  },
  {
   "cell_type": "code",
   "execution_count": null,
   "metadata": {},
   "outputs": [],
   "source": [
    "#4.c\n"
   ]
  },
  {
   "cell_type": "code",
   "execution_count": null,
   "metadata": {},
   "outputs": [],
   "source": []
  }
 ],
 "metadata": {
  "language_info": {
   "name": "python"
  }
 },
 "nbformat": 4,
 "nbformat_minor": 2
}
